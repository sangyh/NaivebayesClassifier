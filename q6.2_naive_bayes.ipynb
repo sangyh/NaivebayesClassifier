{
 "cells": [
  {
   "cell_type": "code",
   "execution_count": 226,
   "metadata": {
    "collapsed": true
   },
   "outputs": [],
   "source": [
    "import pandas as pd\n",
    "import numpy as np\n",
    "from matplotlib import pyplot as plt\n",
    "from collections import Counter\n",
    "import scipy.io\n",
    "mat = scipy.io.loadmat('ecoli.mat')"
   ]
  },
  {
   "cell_type": "code",
   "execution_count": 227,
   "metadata": {
    "collapsed": true
   },
   "outputs": [],
   "source": [
    "xTrain=mat['xTrain']\n",
    "yTrain=mat['yTrain']\n",
    "xTest=mat['xTest']\n",
    "yTest=mat['yTest']"
   ]
  },
  {
   "cell_type": "code",
   "execution_count": 228,
   "metadata": {},
   "outputs": [
    {
     "name": "stdout",
     "output_type": "stream",
     "text": [
      "(array([[ 0.44,  0.28,  0.43,  0.27,  0.37],\n",
      "       [ 0.31,  0.36,  0.58,  0.94,  0.94],\n",
      "       [ 0.58,  0.55,  0.57,  0.7 ,  0.74],\n",
      "       [ 0.38,  0.44,  0.43,  0.2 ,  0.31],\n",
      "       [ 0.29,  0.28,  0.5 ,  0.42,  0.5 ],\n",
      "       [ 0.78,  0.44,  0.45,  0.73,  0.68],\n",
      "       [ 0.64,  0.78,  0.5 ,  0.36,  0.38],\n",
      "       [ 0.83,  0.48,  0.65,  0.76,  0.79],\n",
      "       [ 0.32,  0.39,  0.53,  0.28,  0.38],\n",
      "       [ 0.77,  0.57,  0.88,  0.53,  0.2 ]]), [1, 2, 2, 1, 1, 4, 3, 4, 3, 5])\n"
     ]
    }
   ],
   "source": [
    "def convert_to_list(mat_obj):\n",
    "    y=[]\n",
    "    for i in mat_obj:\n",
    "        y.append(i[0])\n",
    "    return y\n",
    "\n",
    "yTrain=convert_to_list(yTrain)\n",
    "#xTrain=convert_to_list(xTrain)\n",
    "#xTest=convert_to_list(xTest)\n",
    "yTest=convert_to_list(yTest)\n",
    "\n",
    "print(xTrain[0:10],yTrain[:10])"
   ]
  },
  {
   "cell_type": "code",
   "execution_count": 229,
   "metadata": {
    "collapsed": true
   },
   "outputs": [],
   "source": [
    "p=[]\n",
    "def prior(yTrain):\n",
    "    global class_label,no_classes\n",
    "    class_label=Counter(yTrain)\n",
    "    no_classes=len(class_label)\n",
    "\n",
    "    for item in class_label.values():\n",
    "        p.append(float(item)/float(len(yTrain)))\n",
    "    return p"
   ]
  },
  {
   "cell_type": "code",
   "execution_count": 230,
   "metadata": {},
   "outputs": [
    {
     "name": "stdout",
     "output_type": "stream",
     "text": [
      "Counter({1: 103, 2: 51, 3: 31, 4: 22, 5: 11})\n",
      "[0.4724770642201835, 0.23394495412844038, 0.14220183486238533, 0.10091743119266056, 0.05045871559633028]\n"
     ]
    }
   ],
   "source": [
    "p=prior(yTrain)\n",
    "print class_label\n",
    "print(p)"
   ]
  },
  {
   "cell_type": "code",
   "execution_count": 231,
   "metadata": {
    "collapsed": true
   },
   "outputs": [],
   "source": [
    "no_samples=int(np.shape(xTrain)[0])\n",
    "no_features=int(np.shape(xTrain)[1])\n",
    "\n",
    "class1_feature_values,class2_feature_values,class3_feature_values,class4_feature_values,class5_feature_values=[[],[],[],[],[]],[[],[],[],[],[]],[[],[],[],[],[]],[[],[],[],[],[]],[[],[],[],[],[]]\n",
    "\n",
    "for feature_index in range(no_features):\n",
    "    for sample in range(no_samples):#no_samples\n",
    "        if yTrain[sample]==1:\n",
    "            class1_feature_values[feature_index].append(xTrain[sample][feature_index])\n",
    "        elif yTrain[sample]==2:\n",
    "            class2_feature_values[feature_index].append(xTrain[sample][feature_index])\n",
    "        elif yTrain[sample]==3:\n",
    "            class3_feature_values[feature_index].append(xTrain[sample][feature_index])\n",
    "        elif yTrain[sample]==4:\n",
    "            class4_feature_values[feature_index].append(xTrain[sample][feature_index])\n",
    "        elif yTrain[sample]==5:\n",
    "            class5_feature_values[feature_index].append(xTrain[sample][feature_index])\n"
   ]
  },
  {
   "cell_type": "code",
   "execution_count": 232,
   "metadata": {
    "collapsed": true
   },
   "outputs": [],
   "source": [
    "#print((class2_feature_values[1]))"
   ]
  },
  {
   "cell_type": "code",
   "execution_count": 233,
   "metadata": {
    "scrolled": false
   },
   "outputs": [
    {
     "name": "stdout",
     "output_type": "stream",
     "text": [
      "[[ 0.35941748  0.47176471  0.65129032  0.73909091  0.68909091]\n",
      " [ 0.40728155  0.5054902   0.71580645  0.47045455  0.69      ]\n",
      " [ 0.45339806  0.52686275  0.43032258  0.58136364  0.76727273]\n",
      " [ 0.30796117  0.7554902   0.47        0.74909091  0.48181818]\n",
      " [ 0.39300971  0.71019608  0.38709677  0.76909091  0.31545455]]\n",
      "[[ 0.01513558  0.04263414  0.01081769  0.01084463  0.00419008]\n",
      " [ 0.00763533  0.00782868  0.02135338  0.00950434  0.01081818]\n",
      " [ 0.00902243  0.01632741  0.00637086  0.00393905  0.0042562 ]\n",
      " [ 0.00907254  0.01229535  0.01243871  0.00563554  0.00665124]\n",
      " [ 0.00896861  0.03632741  0.01572383  0.00478099  0.01077025]]\n"
     ]
    }
   ],
   "source": [
    "M=np.zeros((5,5))\n",
    "V=np.zeros((5,5))\n",
    "for i in range(no_features):\n",
    "    M[i][0]=(np.mean(class1_feature_values[i]))\n",
    "    V[i][0]=(np.var(class1_feature_values[i]))\n",
    "    M[i][1]=(np.mean(class2_feature_values[i]))\n",
    "    V[i][1]=(np.var(class2_feature_values[i]))\n",
    "    M[i][2]=(np.mean(class3_feature_values[i]))\n",
    "    V[i][2]=(np.var(class3_feature_values[i]))\n",
    "    M[i][3]=(np.mean(class4_feature_values[i]))\n",
    "    V[i][3]=(np.var(class4_feature_values[i]))\n",
    "    M[i][4]=(np.mean(class5_feature_values[i]))\n",
    "    V[i][4]=(np.var(class5_feature_values[i]))\n",
    "print(M)\n",
    "print(V)\n"
   ]
  },
  {
   "cell_type": "markdown",
   "metadata": {},
   "source": [
    "#normalizing M and V matrix\n",
    "for i in range(no_features):\n",
    "    M[i][0]/=np.sum(M[i][:])\n",
    "    V[i][0]/=np.sum(V[i][:])\n",
    "    M[i][1]/=np.sum(M[i][:])\n",
    "    V[i][1]/=np.sum(V[i][:])\n",
    "    M[i][2]/=np.sum(M[i][:])\n",
    "    V[i][2]/=np.sum(V[i][:])\n",
    "    M[i][3]/=np.sum(M[i][:])\n",
    "    V[i][3]/=np.sum(V[i][:])\n",
    "    M[i][4]/=np.sum(M[i][:])\n",
    "    V[i][4]/=np.sum(V[i][:])\n",
    "print(M)\n",
    "print(V)"
   ]
  },
  {
   "cell_type": "code",
   "execution_count": 234,
   "metadata": {},
   "outputs": [
    {
     "name": "stdout",
     "output_type": "stream",
     "text": [
      "5\n",
      "[0.3594174757281553, 0.40728155339805833, 0.45339805825242724, 0.30796116504854371, 0.39300970873786412]\n"
     ]
    }
   ],
   "source": [
    "no_classes=np.shape(M)[1]\n",
    "print(no_classes)\n",
    "\n",
    "print([M[0][0],M[1][0],M[2][0],M[3][0],M[4][0]])"
   ]
  },
  {
   "cell_type": "code",
   "execution_count": 235,
   "metadata": {
    "collapsed": true
   },
   "outputs": [],
   "source": [
    "nb=[]\n",
    "def naiveBayes(x, M, V, p):\n",
    "    for row in x[:]:\n",
    "        prod=[1,1,1,1,1]\n",
    "        for feat in range(len(row)):\n",
    "            for c in range(no_classes):\n",
    "                prod[c]*=(1/np.sqrt(V[feat][c]))*np.exp(-0.5*((row[feat]-M[feat][c])**2)/V[feat][c])\n",
    "        \n",
    "        prod=np.multiply(prod,p)\n",
    "        nb.append(np.argmax(prod)+1)\n",
    "        \n",
    "    return nb"
   ]
  },
  {
   "cell_type": "code",
   "execution_count": 236,
   "metadata": {
    "scrolled": false
   },
   "outputs": [
    {
     "name": "stdout",
     "output_type": "stream",
     "text": [
      "[3, 5, 2, 4, 1, 1, 2, 2, 1, 5, 1, 1, 1, 3, 1, 3, 1, 1, 1, 4, 4, 3, 1, 3, 3, 2, 1, 3, 1, 1, 2, 2, 2, 1, 1, 4, 1, 1, 5, 2, 2, 1, 1, 1, 1, 3, 2, 1, 5, 3, 4, 4, 2, 1, 3, 1, 4, 3, 4, 4, 2, 3, 2, 5, 4, 4, 4, 5, 5, 1, 1, 2, 3, 3, 4, 4, 1, 5, 4, 3, 3, 2, 1, 1, 2, 3, 3, 1, 2, 4, 2, 1, 1, 3, 1, 1, 3, 2, 1, 2, 1, 3, 2, 1, 1, 4, 4, 1, 1]\n"
     ]
    }
   ],
   "source": [
    "nb=(naiveBayes(xTest, M, V, p))\n",
    "print(nb)"
   ]
  },
  {
   "cell_type": "code",
   "execution_count": 237,
   "metadata": {},
   "outputs": [
    {
     "name": "stdout",
     "output_type": "stream",
     "text": [
      "91\n",
      "83.4862385321\n"
     ]
    }
   ],
   "source": [
    "#fraction classified correctly\n",
    "match_count=0\n",
    "class_1_pred=0\n",
    "class_2_pred=0\n",
    "class_3_pred=0\n",
    "class_4_pred=0\n",
    "class_5_pred=0\n",
    "\n",
    "class1_trpos=0\n",
    "class2_trpos=0\n",
    "class3_trpos=0\n",
    "class4_trpos=0\n",
    "class5_trpos=0\n",
    "\n",
    "precision_array=[]\n",
    "recall_array=[]\n",
    "\n",
    "for i in range(len(nb)):\n",
    "    if nb[i]==yTest[i]:\n",
    "        match_count+=1\n",
    "    if nb[i]==1:\n",
    "        class_1_pred+=1\n",
    "        if yTest[i]==1:\n",
    "            class1_trpos+=1\n",
    "    if nb[i]==2:\n",
    "        class_2_pred+=1\n",
    "        if yTest[i]==2:\n",
    "            class2_trpos+=1\n",
    "    if nb[i]==3:\n",
    "        class_3_pred+=1\n",
    "        if yTest[i]==3:\n",
    "            class3_trpos+=1\n",
    "    if nb[i]==4:\n",
    "        class_4_pred+=1\n",
    "        if yTest[i]==4:\n",
    "            class4_trpos+=1\n",
    "    if nb[i]==5:\n",
    "        class_5_pred+=1\n",
    "        if yTest[i]==5:\n",
    "            class5_trpos+=1\n",
    "        \n",
    "    \n",
    "print(match_count)\n",
    "print(float(match_count)/float(len(nb))*100)"
   ]
  },
  {
   "cell_type": "code",
   "execution_count": 238,
   "metadata": {},
   "outputs": [
    {
     "name": "stdout",
     "output_type": "stream",
     "text": [
      "(41, 39)\n",
      "0.951219512195\n",
      "(\"true 1's in yTest: \", 40)\n",
      "0.975\n"
     ]
    }
   ],
   "source": [
    "#precision of class 1\n",
    "print(class_1_pred,class1_trpos)\n",
    "class1_prec=float(class1_trpos)/float(class_1_pred)\n",
    "print(class1_prec)\n",
    "\n",
    "#recall\n",
    "i=0\n",
    "for x in yTest:\n",
    "    if x==1:\n",
    "        i+=1\n",
    "print(\"true 1's in yTest: \",i)\n",
    "\n",
    "recall=float(class1_trpos)/float(i)\n",
    "print(recall)\n",
    "\n",
    "precision_array.append(class1_prec)\n",
    "recall_array.append(recall)"
   ]
  },
  {
   "cell_type": "code",
   "execution_count": 239,
   "metadata": {},
   "outputs": [
    {
     "name": "stdout",
     "output_type": "stream",
     "text": [
      "(21, 17)\n",
      "0.809523809524\n",
      "(\"true 2's in yTest: \", 26)\n",
      "0.653846153846\n"
     ]
    }
   ],
   "source": [
    "#precision of class 2\n",
    "print(class_2_pred,class2_trpos)\n",
    "class2_prec=float(class2_trpos)/float(class_2_pred)\n",
    "print(class2_prec)\n",
    "\n",
    "#recall\n",
    "i=0\n",
    "for x in yTest:\n",
    "    if x==2:\n",
    "        i+=1\n",
    "print(\"true 2's in yTest: \",i)\n",
    "\n",
    "recall=float(class2_trpos)/float(i)\n",
    "print(recall)\n",
    "\n",
    "precision_array.append(class1_prec)\n",
    "recall_array.append(recall)"
   ]
  },
  {
   "cell_type": "code",
   "execution_count": 240,
   "metadata": {},
   "outputs": [
    {
     "name": "stdout",
     "output_type": "stream",
     "text": [
      "(21, 19)\n",
      "0.904761904762\n",
      "(\"true 3's in yTest: \", 21)\n",
      "0.904761904762\n"
     ]
    }
   ],
   "source": [
    "#precision of class 3\n",
    "print(class_3_pred,class3_trpos)\n",
    "class3_prec=float(class3_trpos)/float(class_3_pred)\n",
    "print(class3_prec)\n",
    "\n",
    "#recall\n",
    "i=0\n",
    "for x in yTest:\n",
    "    if x==3:\n",
    "        i+=1\n",
    "print(\"true 3's in yTest: \",i)\n",
    "\n",
    "recall=float(class3_trpos)/float(i)\n",
    "print(recall)\n",
    "\n",
    "precision_array.append(class1_prec)\n",
    "recall_array.append(recall)"
   ]
  },
  {
   "cell_type": "code",
   "execution_count": 241,
   "metadata": {},
   "outputs": [
    {
     "name": "stdout",
     "output_type": "stream",
     "text": [
      "(18, 9)\n",
      "50.0\n",
      "(\"true 4's in yTest: \", 13)\n",
      "0.692307692308\n"
     ]
    }
   ],
   "source": [
    "#precision of class 4\n",
    "print(class_4_pred,class4_trpos)\n",
    "class4_prec=float(class4_trpos)/float(class_4_pred)*100\n",
    "print(class4_prec)\n",
    "\n",
    "#recall\n",
    "i=0\n",
    "for x in yTest:\n",
    "    if x==4:\n",
    "        i+=1\n",
    "print(\"true 4's in yTest: \",i)\n",
    "\n",
    "recall=float(class4_trpos)/float(i)\n",
    "print(recall)\n",
    "\n",
    "precision_array.append(class1_prec)\n",
    "recall_array.append(recall)"
   ]
  },
  {
   "cell_type": "code",
   "execution_count": 242,
   "metadata": {},
   "outputs": [
    {
     "name": "stdout",
     "output_type": "stream",
     "text": [
      "(8, 7)\n",
      "0.875\n",
      "(\"true 5's in yTest: \", 9)\n",
      "0.777777777778\n"
     ]
    }
   ],
   "source": [
    "#precision of class 5\n",
    "print(class_5_pred,class5_trpos)\n",
    "class5_prec=float(class5_trpos)/float(class_5_pred)\n",
    "print(class5_prec)\n",
    "\n",
    "#recall\n",
    "i=0\n",
    "for x in yTest:\n",
    "    if x==5:\n",
    "        i+=1\n",
    "print(\"true 5's in yTest: \",i)\n",
    "\n",
    "recall=float(class5_trpos)/float(i)\n",
    "print(recall)\n",
    "\n",
    "precision_array.append(class1_prec)\n",
    "recall_array.append(recall)"
   ]
  },
  {
   "cell_type": "code",
   "execution_count": 243,
   "metadata": {},
   "outputs": [
    {
     "name": "stdout",
     "output_type": "stream",
     "text": [
      "[0.9512195121951219, 0.9512195121951219, 0.9512195121951219, 0.9512195121951219, 0.9512195121951219]\n",
      "[0.975, 0.6538461538461539, 0.9047619047619048, 0.6923076923076923, 0.7777777777777778]\n"
     ]
    },
    {
     "data": {
      "image/png": "[encoded data removed]",
      "text/plain": [
       "<matplotlib.figure.Figure at 0xf2b8550>"
      ]
     },
     "metadata": {},
     "output_type": "display_data"
    }
   ],
   "source": [
    "#preciison recall curve\n",
    "print(precision_array)\n",
    "print(recall_array)   \n",
    "\n",
    "plt.plot(recall_array,precision_array,'o')\n",
    "plt.axis([0,1,0,1])\n",
    "plt.show()\n"
   ]
  },
  {
   "cell_type": "code",
   "execution_count": null,
   "metadata": {
    "collapsed": true
   },
   "outputs": [],
   "source": []
  }
 ],
 "metadata": {
  "kernelspec": {
   "display_name": "Python 2",
   "language": "python",
   "name": "python2"
  },
  "language_info": {
   "codemirror_mode": {
    "name": "ipython",
    "version": 2
   },
   "file_extension": ".py",
   "mimetype": "text/x-python",
   "name": "python",
   "nbconvert_exporter": "python",
   "pygments_lexer": "ipython2",
   "version": "2.7.13"
  }
 },
 "nbformat": 4,
 "nbformat_minor": 2
}
